{
 "cells": [
  {
   "cell_type": "code",
   "execution_count": 1,
   "metadata": {},
   "outputs": [],
   "source": [
    "from matplotlib import pyplot as plt\n",
    "import numpy as np\n",
    "import geopandas as gpd"
   ]
  },
  {
   "cell_type": "code",
   "execution_count": 24,
   "metadata": {},
   "outputs": [],
   "source": [
    "vnShapefilePath = '/home/lamductan/Hydroviet/github/DataNotebook/vnShapefile/VNM_adm1'\n",
    "vnShapefile = gpd.read_file(vnShapefilePath + '.shp')\n",
    "\n",
    "laShapefilePath = '/home/lamductan/Hydroviet/github/DataNotebook/laShapefile/LAO_adm1'\n",
    "laShapefile = gpd.read_file(laShapefilePath + '.shp')"
   ]
  },
  {
   "cell_type": "code",
   "execution_count": 13,
   "metadata": {},
   "outputs": [
    {
     "name": "stdout",
     "output_type": "stream",
     "text": [
      "<class 'geopandas.geodataframe.GeoDataFrame'>\n",
      "RangeIndex: 18 entries, 0 to 17\n",
      "Data columns (total 10 columns):\n",
      "ID_0         18 non-null int64\n",
      "ISO          18 non-null object\n",
      "NAME_0       18 non-null object\n",
      "ID_1         18 non-null int64\n",
      "NAME_1       18 non-null object\n",
      "TYPE_1       18 non-null object\n",
      "ENGTYPE_1    18 non-null object\n",
      "NL_NAME_1    0 non-null object\n",
      "VARNAME_1    17 non-null object\n",
      "geometry     18 non-null object\n",
      "dtypes: int64(2), object(8)\n",
      "memory usage: 1.5+ KB\n"
     ]
    }
   ],
   "source": [
    "laShapefile.info()"
   ]
  },
  {
   "cell_type": "code",
   "execution_count": 14,
   "metadata": {},
   "outputs": [
    {
     "data": {
      "text/html": [
       "<div>\n",
       "<style scoped>\n",
       "    .dataframe tbody tr th:only-of-type {\n",
       "        vertical-align: middle;\n",
       "    }\n",
       "\n",
       "    .dataframe tbody tr th {\n",
       "        vertical-align: top;\n",
       "    }\n",
       "\n",
       "    .dataframe thead th {\n",
       "        text-align: right;\n",
       "    }\n",
       "</style>\n",
       "<table border=\"1\" class=\"dataframe\">\n",
       "  <thead>\n",
       "    <tr style=\"text-align: right;\">\n",
       "      <th></th>\n",
       "      <th>ID_0</th>\n",
       "      <th>ISO</th>\n",
       "      <th>NAME_0</th>\n",
       "      <th>ID_1</th>\n",
       "      <th>NAME_1</th>\n",
       "      <th>TYPE_1</th>\n",
       "      <th>ENGTYPE_1</th>\n",
       "      <th>NL_NAME_1</th>\n",
       "      <th>VARNAME_1</th>\n",
       "      <th>geometry</th>\n",
       "    </tr>\n",
       "  </thead>\n",
       "  <tbody>\n",
       "    <tr>\n",
       "      <th>0</th>\n",
       "      <td>123</td>\n",
       "      <td>LAO</td>\n",
       "      <td>Laos</td>\n",
       "      <td>1</td>\n",
       "      <td>Attapu</td>\n",
       "      <td>Khoueng</td>\n",
       "      <td>Province</td>\n",
       "      <td>None</td>\n",
       "      <td>Attopu|Atpu|Attapeu|Attopeu|Muang Mai</td>\n",
       "      <td>POLYGON ((107.2457656860352 15.24563503265392,...</td>\n",
       "    </tr>\n",
       "    <tr>\n",
       "      <th>1</th>\n",
       "      <td>123</td>\n",
       "      <td>LAO</td>\n",
       "      <td>Laos</td>\n",
       "      <td>2</td>\n",
       "      <td>Bokeo</td>\n",
       "      <td>Khoueng</td>\n",
       "      <td>Province</td>\n",
       "      <td>None</td>\n",
       "      <td>None</td>\n",
       "      <td>POLYGON ((100.6210174560549 20.81040000915527,...</td>\n",
       "    </tr>\n",
       "    <tr>\n",
       "      <th>2</th>\n",
       "      <td>123</td>\n",
       "      <td>LAO</td>\n",
       "      <td>Laos</td>\n",
       "      <td>3</td>\n",
       "      <td>Bolikhamxai</td>\n",
       "      <td>Khoueng</td>\n",
       "      <td>Province</td>\n",
       "      <td>None</td>\n",
       "      <td>Bolikhamsai|Bolikhamxay|Borikhamzay|Borikane|B...</td>\n",
       "      <td>POLYGON ((104.2889633178713 19.11725234985357,...</td>\n",
       "    </tr>\n",
       "    <tr>\n",
       "      <th>3</th>\n",
       "      <td>123</td>\n",
       "      <td>LAO</td>\n",
       "      <td>Laos</td>\n",
       "      <td>4</td>\n",
       "      <td>Champasak</td>\n",
       "      <td>Khoueng</td>\n",
       "      <td>Province</td>\n",
       "      <td>None</td>\n",
       "      <td>Bassac|Champassack|Champassak|Champassac|Khong...</td>\n",
       "      <td>POLYGON ((106.076843261719 15.45544528961187, ...</td>\n",
       "    </tr>\n",
       "    <tr>\n",
       "      <th>4</th>\n",
       "      <td>123</td>\n",
       "      <td>LAO</td>\n",
       "      <td>Laos</td>\n",
       "      <td>5</td>\n",
       "      <td>Houaphan</td>\n",
       "      <td>Khoueng</td>\n",
       "      <td>Province</td>\n",
       "      <td>None</td>\n",
       "      <td>Hua Phan|Huaphanh|Sam Neua|Xam Nua</td>\n",
       "      <td>POLYGON ((104.1126022338869 20.97283554077148,...</td>\n",
       "    </tr>\n",
       "    <tr>\n",
       "      <th>5</th>\n",
       "      <td>123</td>\n",
       "      <td>LAO</td>\n",
       "      <td>Laos</td>\n",
       "      <td>6</td>\n",
       "      <td>Khammouan</td>\n",
       "      <td>Khoueng</td>\n",
       "      <td>Province</td>\n",
       "      <td>None</td>\n",
       "      <td>Khammouane|Khammuan</td>\n",
       "      <td>(POLYGON ((105.3211288452149 18.26503753662104...</td>\n",
       "    </tr>\n",
       "    <tr>\n",
       "      <th>6</th>\n",
       "      <td>123</td>\n",
       "      <td>LAO</td>\n",
       "      <td>Laos</td>\n",
       "      <td>7</td>\n",
       "      <td>Louang Namtha</td>\n",
       "      <td>Khoueng</td>\n",
       "      <td>Province</td>\n",
       "      <td>None</td>\n",
       "      <td>Haut-Mekong|Luangnamtha|Muong Luang Namtha|Nam...</td>\n",
       "      <td>POLYGON ((101.1875991821291 21.55895233154303,...</td>\n",
       "    </tr>\n",
       "    <tr>\n",
       "      <th>7</th>\n",
       "      <td>123</td>\n",
       "      <td>LAO</td>\n",
       "      <td>Laos</td>\n",
       "      <td>8</td>\n",
       "      <td>Louangphrabang</td>\n",
       "      <td>Khoueng</td>\n",
       "      <td>Province</td>\n",
       "      <td>None</td>\n",
       "      <td>Loang Prabang|Louangphabang|Louang Prabang|Lua...</td>\n",
       "      <td>POLYGON ((102.9288711547852 21.14336395263683,...</td>\n",
       "    </tr>\n",
       "    <tr>\n",
       "      <th>8</th>\n",
       "      <td>123</td>\n",
       "      <td>LAO</td>\n",
       "      <td>Laos</td>\n",
       "      <td>9</td>\n",
       "      <td>Oudômxai</td>\n",
       "      <td>Khoueng</td>\n",
       "      <td>Province</td>\n",
       "      <td>None</td>\n",
       "      <td>Oudomsai|Oudomsay|Oudomxay|UdomXay</td>\n",
       "      <td>POLYGON ((101.8398666381839 21.21202850341808,...</td>\n",
       "    </tr>\n",
       "    <tr>\n",
       "      <th>9</th>\n",
       "      <td>123</td>\n",
       "      <td>LAO</td>\n",
       "      <td>Laos</td>\n",
       "      <td>10</td>\n",
       "      <td>Phôngsali</td>\n",
       "      <td>Khoueng</td>\n",
       "      <td>Province</td>\n",
       "      <td>None</td>\n",
       "      <td>Fong Sali|Phongsaly</td>\n",
       "      <td>POLYGON ((101.7794723510744 22.49917984008795,...</td>\n",
       "    </tr>\n",
       "    <tr>\n",
       "      <th>10</th>\n",
       "      <td>123</td>\n",
       "      <td>LAO</td>\n",
       "      <td>Laos</td>\n",
       "      <td>11</td>\n",
       "      <td>Saravan</td>\n",
       "      <td>Khoueng</td>\n",
       "      <td>Province</td>\n",
       "      <td>None</td>\n",
       "      <td>Salavan|Salavane|Saravane</td>\n",
       "      <td>POLYGON ((106.8714370727542 16.53296661376964,...</td>\n",
       "    </tr>\n",
       "    <tr>\n",
       "      <th>11</th>\n",
       "      <td>123</td>\n",
       "      <td>LAO</td>\n",
       "      <td>Laos</td>\n",
       "      <td>12</td>\n",
       "      <td>Savannakhét</td>\n",
       "      <td>Khoueng</td>\n",
       "      <td>Province</td>\n",
       "      <td>None</td>\n",
       "      <td>Svannakhet</td>\n",
       "      <td>POLYGON ((105.6997070312502 17.1167259216308, ...</td>\n",
       "    </tr>\n",
       "    <tr>\n",
       "      <th>12</th>\n",
       "      <td>123</td>\n",
       "      <td>LAO</td>\n",
       "      <td>Laos</td>\n",
       "      <td>13</td>\n",
       "      <td>Vientiane [prefecture]</td>\n",
       "      <td>Kampeng Nakhon</td>\n",
       "      <td>Municipality|Prefecture</td>\n",
       "      <td>None</td>\n",
       "      <td>Vientiane|Kamphaeng Nakhon Viang Chan</td>\n",
       "      <td>POLYGON ((102.2389602661133 18.39583206176758,...</td>\n",
       "    </tr>\n",
       "    <tr>\n",
       "      <th>13</th>\n",
       "      <td>123</td>\n",
       "      <td>LAO</td>\n",
       "      <td>Laos</td>\n",
       "      <td>14</td>\n",
       "      <td>Vientiane</td>\n",
       "      <td>Khoueng</td>\n",
       "      <td>Province</td>\n",
       "      <td>None</td>\n",
       "      <td>Viangchan</td>\n",
       "      <td>POLYGON ((102.1725997924805 19.40872764587408,...</td>\n",
       "    </tr>\n",
       "    <tr>\n",
       "      <th>14</th>\n",
       "      <td>123</td>\n",
       "      <td>LAO</td>\n",
       "      <td>Laos</td>\n",
       "      <td>15</td>\n",
       "      <td>Xékong</td>\n",
       "      <td>Khoueng</td>\n",
       "      <td>Province</td>\n",
       "      <td>None</td>\n",
       "      <td>Sekong</td>\n",
       "      <td>POLYGON ((107.1590881347657 16.16781616210943,...</td>\n",
       "    </tr>\n",
       "    <tr>\n",
       "      <th>15</th>\n",
       "      <td>123</td>\n",
       "      <td>LAO</td>\n",
       "      <td>Laos</td>\n",
       "      <td>16</td>\n",
       "      <td>Xaignabouri</td>\n",
       "      <td>Khoueng</td>\n",
       "      <td>Province</td>\n",
       "      <td>None</td>\n",
       "      <td>Sayabouri|Sayaboury|Xaignabouli|Xayabouri|Xaya...</td>\n",
       "      <td>POLYGON ((101.7267532348636 19.90493011474621,...</td>\n",
       "    </tr>\n",
       "    <tr>\n",
       "      <th>16</th>\n",
       "      <td>123</td>\n",
       "      <td>LAO</td>\n",
       "      <td>Laos</td>\n",
       "      <td>17</td>\n",
       "      <td>Xaisômboun</td>\n",
       "      <td>Khetphiset</td>\n",
       "      <td>Special Region|Zone</td>\n",
       "      <td>None</td>\n",
       "      <td>Saysomboune,|Xaysomboun</td>\n",
       "      <td>POLYGON ((102.7476043701171 19.3119945526123, ...</td>\n",
       "    </tr>\n",
       "    <tr>\n",
       "      <th>17</th>\n",
       "      <td>123</td>\n",
       "      <td>LAO</td>\n",
       "      <td>Laos</td>\n",
       "      <td>18</td>\n",
       "      <td>Xiangkhoang</td>\n",
       "      <td>Khoueng</td>\n",
       "      <td>Province</td>\n",
       "      <td>None</td>\n",
       "      <td>Xiang Khouang|Xieng Khouang|Xiengkhuang|Xieng ...</td>\n",
       "      <td>POLYGON ((103.7564773559571 20.03112602233892,...</td>\n",
       "    </tr>\n",
       "  </tbody>\n",
       "</table>\n",
       "</div>"
      ],
      "text/plain": [
       "    ID_0  ISO NAME_0  ID_1                  NAME_1          TYPE_1  \\\n",
       "0    123  LAO   Laos     1                  Attapu         Khoueng   \n",
       "1    123  LAO   Laos     2                   Bokeo         Khoueng   \n",
       "2    123  LAO   Laos     3             Bolikhamxai         Khoueng   \n",
       "3    123  LAO   Laos     4               Champasak         Khoueng   \n",
       "4    123  LAO   Laos     5                Houaphan         Khoueng   \n",
       "5    123  LAO   Laos     6               Khammouan         Khoueng   \n",
       "6    123  LAO   Laos     7           Louang Namtha         Khoueng   \n",
       "7    123  LAO   Laos     8          Louangphrabang         Khoueng   \n",
       "8    123  LAO   Laos     9                Oudômxai         Khoueng   \n",
       "9    123  LAO   Laos    10               Phôngsali         Khoueng   \n",
       "10   123  LAO   Laos    11                 Saravan         Khoueng   \n",
       "11   123  LAO   Laos    12             Savannakhét         Khoueng   \n",
       "12   123  LAO   Laos    13  Vientiane [prefecture]  Kampeng Nakhon   \n",
       "13   123  LAO   Laos    14               Vientiane         Khoueng   \n",
       "14   123  LAO   Laos    15                  Xékong         Khoueng   \n",
       "15   123  LAO   Laos    16             Xaignabouri         Khoueng   \n",
       "16   123  LAO   Laos    17              Xaisômboun      Khetphiset   \n",
       "17   123  LAO   Laos    18             Xiangkhoang         Khoueng   \n",
       "\n",
       "                  ENGTYPE_1 NL_NAME_1  \\\n",
       "0                  Province      None   \n",
       "1                  Province      None   \n",
       "2                  Province      None   \n",
       "3                  Province      None   \n",
       "4                  Province      None   \n",
       "5                  Province      None   \n",
       "6                  Province      None   \n",
       "7                  Province      None   \n",
       "8                  Province      None   \n",
       "9                  Province      None   \n",
       "10                 Province      None   \n",
       "11                 Province      None   \n",
       "12  Municipality|Prefecture      None   \n",
       "13                 Province      None   \n",
       "14                 Province      None   \n",
       "15                 Province      None   \n",
       "16      Special Region|Zone      None   \n",
       "17                 Province      None   \n",
       "\n",
       "                                            VARNAME_1  \\\n",
       "0               Attopu|Atpu|Attapeu|Attopeu|Muang Mai   \n",
       "1                                                None   \n",
       "2   Bolikhamsai|Bolikhamxay|Borikhamzay|Borikane|B...   \n",
       "3   Bassac|Champassack|Champassak|Champassac|Khong...   \n",
       "4                  Hua Phan|Huaphanh|Sam Neua|Xam Nua   \n",
       "5                                 Khammouane|Khammuan   \n",
       "6   Haut-Mekong|Luangnamtha|Muong Luang Namtha|Nam...   \n",
       "7   Loang Prabang|Louangphabang|Louang Prabang|Lua...   \n",
       "8                  Oudomsai|Oudomsay|Oudomxay|UdomXay   \n",
       "9                                 Fong Sali|Phongsaly   \n",
       "10                          Salavan|Salavane|Saravane   \n",
       "11                                         Svannakhet   \n",
       "12              Vientiane|Kamphaeng Nakhon Viang Chan   \n",
       "13                                          Viangchan   \n",
       "14                                             Sekong   \n",
       "15  Sayabouri|Sayaboury|Xaignabouli|Xayabouri|Xaya...   \n",
       "16                            Saysomboune,|Xaysomboun   \n",
       "17  Xiang Khouang|Xieng Khouang|Xiengkhuang|Xieng ...   \n",
       "\n",
       "                                             geometry  \n",
       "0   POLYGON ((107.2457656860352 15.24563503265392,...  \n",
       "1   POLYGON ((100.6210174560549 20.81040000915527,...  \n",
       "2   POLYGON ((104.2889633178713 19.11725234985357,...  \n",
       "3   POLYGON ((106.076843261719 15.45544528961187, ...  \n",
       "4   POLYGON ((104.1126022338869 20.97283554077148,...  \n",
       "5   (POLYGON ((105.3211288452149 18.26503753662104...  \n",
       "6   POLYGON ((101.1875991821291 21.55895233154303,...  \n",
       "7   POLYGON ((102.9288711547852 21.14336395263683,...  \n",
       "8   POLYGON ((101.8398666381839 21.21202850341808,...  \n",
       "9   POLYGON ((101.7794723510744 22.49917984008795,...  \n",
       "10  POLYGON ((106.8714370727542 16.53296661376964,...  \n",
       "11  POLYGON ((105.6997070312502 17.1167259216308, ...  \n",
       "12  POLYGON ((102.2389602661133 18.39583206176758,...  \n",
       "13  POLYGON ((102.1725997924805 19.40872764587408,...  \n",
       "14  POLYGON ((107.1590881347657 16.16781616210943,...  \n",
       "15  POLYGON ((101.7267532348636 19.90493011474621,...  \n",
       "16  POLYGON ((102.7476043701171 19.3119945526123, ...  \n",
       "17  POLYGON ((103.7564773559571 20.03112602233892,...  "
      ]
     },
     "execution_count": 14,
     "metadata": {},
     "output_type": "execute_result"
    }
   ],
   "source": [
    "laShapefile"
   ]
  },
  {
   "cell_type": "code",
   "execution_count": 16,
   "metadata": {},
   "outputs": [
    {
     "data": {
      "text/plain": [
       "0           AttapuAttopu|Atpu|Attapeu|Attopeu|Muang Mai\n",
       "1                                                   NaN\n",
       "2     BolikhamxaiBolikhamsai|Bolikhamxay|Borikhamzay...\n",
       "3     ChampasakBassac|Champassack|Champassak|Champas...\n",
       "4            HouaphanHua Phan|Huaphanh|Sam Neua|Xam Nua\n",
       "5                          KhammouanKhammouane|Khammuan\n",
       "6     Louang NamthaHaut-Mekong|Luangnamtha|Muong Lua...\n",
       "7     LouangphrabangLoang Prabang|Louangphabang|Loua...\n",
       "8            OudômxaiOudomsai|Oudomsay|Oudomxay|UdomXay\n",
       "9                          PhôngsaliFong Sali|Phongsaly\n",
       "10                     SaravanSalavan|Salavane|Saravane\n",
       "11                                SavannakhétSvannakhet\n",
       "12    Vientiane [prefecture]Vientiane|Kamphaeng Nakh...\n",
       "13                                   VientianeViangchan\n",
       "14                                         XékongSekong\n",
       "15    XaignabouriSayabouri|Sayaboury|Xaignabouli|Xay...\n",
       "16                    XaisômbounSaysomboune,|Xaysomboun\n",
       "17    XiangkhoangXiang Khouang|Xieng Khouang|Xiengkh...\n",
       "dtype: object"
      ]
     },
     "execution_count": 16,
     "metadata": {},
     "output_type": "execute_result"
    }
   ],
   "source": [
    "laShapefile['NAME_1'] + laShapefile['VARNAME_1']"
   ]
  },
  {
   "cell_type": "code",
   "execution_count": 18,
   "metadata": {},
   "outputs": [
    {
     "data": {
      "text/plain": [
       "nan"
      ]
     },
     "execution_count": 18,
     "metadata": {},
     "output_type": "execute_result"
    }
   ],
   "source": [
    "(laShapefile['NAME_1'] + laShapefile['VARNAME_1']).iloc[1]"
   ]
  },
  {
   "cell_type": "code",
   "execution_count": 19,
   "metadata": {},
   "outputs": [],
   "source": [
    "a = laShapefile['VARNAME_1']"
   ]
  },
  {
   "cell_type": "code",
   "execution_count": 21,
   "metadata": {},
   "outputs": [],
   "source": [
    "for i in range(len(a)):\n",
    "    if a.iloc[i] == None:\n",
    "        a.iloc[i] = laShapefile['NAME_1'].iloc[i]"
   ]
  },
  {
   "cell_type": "code",
   "execution_count": 22,
   "metadata": {},
   "outputs": [
    {
     "data": {
      "text/plain": [
       "0                 Attopu|Atpu|Attapeu|Attopeu|Muang Mai\n",
       "1                                                 Bokeo\n",
       "2     Bolikhamsai|Bolikhamxay|Borikhamzay|Borikane|B...\n",
       "3     Bassac|Champassack|Champassak|Champassac|Khong...\n",
       "4                    Hua Phan|Huaphanh|Sam Neua|Xam Nua\n",
       "5                                   Khammouane|Khammuan\n",
       "6     Haut-Mekong|Luangnamtha|Muong Luang Namtha|Nam...\n",
       "7     Loang Prabang|Louangphabang|Louang Prabang|Lua...\n",
       "8                    Oudomsai|Oudomsay|Oudomxay|UdomXay\n",
       "9                                   Fong Sali|Phongsaly\n",
       "10                            Salavan|Salavane|Saravane\n",
       "11                                           Svannakhet\n",
       "12                Vientiane|Kamphaeng Nakhon Viang Chan\n",
       "13                                            Viangchan\n",
       "14                                               Sekong\n",
       "15    Sayabouri|Sayaboury|Xaignabouli|Xayabouri|Xaya...\n",
       "16                              Saysomboune,|Xaysomboun\n",
       "17    Xiang Khouang|Xieng Khouang|Xiengkhuang|Xieng ...\n",
       "Name: VARNAME_1, dtype: object"
      ]
     },
     "execution_count": 22,
     "metadata": {},
     "output_type": "execute_result"
    }
   ],
   "source": [
    "a"
   ]
  },
  {
   "cell_type": "code",
   "execution_count": 41,
   "metadata": {},
   "outputs": [],
   "source": [
    "a = vnShapefile.append(laShapefile, ignore_index=True)"
   ]
  },
  {
   "cell_type": "code",
   "execution_count": 29,
   "metadata": {},
   "outputs": [],
   "source": [
    "a = [1,2,3]\n",
    "b = [4,5,6]\n",
    "a.append(b)"
   ]
  },
  {
   "cell_type": "code",
   "execution_count": 42,
   "metadata": {},
   "outputs": [
    {
     "name": "stdout",
     "output_type": "stream",
     "text": [
      "<class 'geopandas.geodataframe.GeoDataFrame'>\n",
      "RangeIndex: 83 entries, 0 to 82\n",
      "Data columns (total 13 columns):\n",
      "CCA_1        65 non-null object\n",
      "CCN_1        65 non-null float64\n",
      "ENGTYPE_1    83 non-null object\n",
      "HASC_1       65 non-null object\n",
      "ID_0         83 non-null int64\n",
      "ID_1         83 non-null int64\n",
      "ISO          83 non-null object\n",
      "NAME_0       83 non-null object\n",
      "NAME_1       83 non-null object\n",
      "NL_NAME_1    0 non-null object\n",
      "TYPE_1       83 non-null object\n",
      "VARNAME_1    82 non-null object\n",
      "geometry     83 non-null object\n",
      "dtypes: float64(1), int64(2), object(10)\n",
      "memory usage: 8.5+ KB\n"
     ]
    }
   ],
   "source": [
    "a.info()"
   ]
  },
  {
   "cell_type": "code",
   "execution_count": 43,
   "metadata": {},
   "outputs": [
    {
     "data": {
      "text/plain": [
       "<matplotlib.axes._subplots.AxesSubplot at 0x7ff76243a908>"
      ]
     },
     "execution_count": 43,
     "metadata": {},
     "output_type": "execute_result"
    },
    {
     "data": {
      "image/png": "[encoded data removed]",
      "text/plain": [
       "<matplotlib.figure.Figure at 0x7ff762793be0>"
      ]
     },
     "metadata": {},
     "output_type": "display_data"
    }
   ],
   "source": [
    "a.plot()"
   ]
  },
  {
   "cell_type": "code",
   "execution_count": 32,
   "metadata": {},
   "outputs": [
    {
     "data": {
      "text/plain": [
       "[1, 2, 3, [4, 5, 6], 4, 5, 6]"
      ]
     },
     "execution_count": 32,
     "metadata": {},
     "output_type": "execute_result"
    }
   ],
   "source": [
    "a"
   ]
  },
  {
   "cell_type": "code",
   "execution_count": 35,
   "metadata": {},
   "outputs": [
    {
     "data": {
      "text/plain": [
       "0                     Attapu\n",
       "1                      Bokeo\n",
       "2                Bolikhamxai\n",
       "3                  Champasak\n",
       "4                   Houaphan\n",
       "5                  Khammouan\n",
       "6              Louang Namtha\n",
       "7             Louangphrabang\n",
       "8                   Oudômxai\n",
       "9                  Phôngsali\n",
       "10                   Saravan\n",
       "11               Savannakhét\n",
       "12    Vientiane [prefecture]\n",
       "13                 Vientiane\n",
       "14                    Xékong\n",
       "15               Xaignabouri\n",
       "16                Xaisômboun\n",
       "17               Xiangkhoang\n",
       "Name: NAME_1, dtype: object"
      ]
     },
     "execution_count": 35,
     "metadata": {},
     "output_type": "execute_result"
    }
   ],
   "source": [
    "laShapefile['NAME_1']"
   ]
  },
  {
   "cell_type": "code",
   "execution_count": 44,
   "metadata": {},
   "outputs": [],
   "source": [
    "b = [1,2,3]\n",
    "c = [4,5,6]"
   ]
  },
  {
   "cell_type": "code",
   "execution_count": 45,
   "metadata": {},
   "outputs": [
    {
     "data": {
      "text/plain": [
       "[1, 2, 3]"
      ]
     },
     "execution_count": 45,
     "metadata": {},
     "output_type": "execute_result"
    }
   ],
   "source": [
    "b"
   ]
  },
  {
   "cell_type": "code",
   "execution_count": 46,
   "metadata": {},
   "outputs": [
    {
     "data": {
      "text/plain": [
       "[4, 5, 6]"
      ]
     },
     "execution_count": 46,
     "metadata": {},
     "output_type": "execute_result"
    }
   ],
   "source": [
    "c"
   ]
  },
  {
   "cell_type": "code",
   "execution_count": 47,
   "metadata": {},
   "outputs": [],
   "source": [
    "b.extend(c)"
   ]
  },
  {
   "cell_type": "code",
   "execution_count": 48,
   "metadata": {},
   "outputs": [
    {
     "data": {
      "text/plain": [
       "[1, 2, 3, 4, 5, 6]"
      ]
     },
     "execution_count": 48,
     "metadata": {},
     "output_type": "execute_result"
    }
   ],
   "source": [
    "b"
   ]
  },
  {
   "cell_type": "code",
   "execution_count": null,
   "metadata": {},
   "outputs": [],
   "source": []
  }
 ],
 "metadata": {
  "kernelspec": {
   "display_name": "Python 3",
   "language": "python",
   "name": "python3"
  },
  "language_info": {
   "codemirror_mode": {
    "name": "ipython",
    "version": 3
   },
   "file_extension": ".py",
   "mimetype": "text/x-python",
   "name": "python",
   "nbconvert_exporter": "python",
   "pygments_lexer": "ipython3",
   "version": "3.6.4"
  }
 },
 "nbformat": 4,
 "nbformat_minor": 2
}
