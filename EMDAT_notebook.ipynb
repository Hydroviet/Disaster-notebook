{
 "cells": [
  {
   "cell_type": "code",
   "execution_count": 1,
   "metadata": {},
   "outputs": [],
   "source": [
    "import pandas as pd\n",
    "import numpy as np\n",
    "from datetime import date"
   ]
  },
  {
   "cell_type": "code",
   "execution_count": 2,
   "metadata": {},
   "outputs": [],
   "source": [
    "df = pd.read_csv('EMDAT_Indochina.csv', sep=',', encoding='ISO-8859-1',header=1)"
   ]
  },
  {
   "cell_type": "code",
   "execution_count": 3,
   "metadata": {},
   "outputs": [
    {
     "name": "stdout",
     "output_type": "stream",
     "text": [
      "<class 'pandas.core.frame.DataFrame'>\n",
      "RangeIndex: 388 entries, 0 to 387\n",
      "Data columns (total 19 columns):\n",
      "Start date                 388 non-null object\n",
      "End date                   386 non-null object\n",
      "Country                    386 non-null object\n",
      "ISO                        386 non-null object\n",
      "Location                   363 non-null object\n",
      "Latitude                   55 non-null float64\n",
      "Longitude                  57 non-null float64\n",
      "Magnitude value            147 non-null float64\n",
      "Magnitude scale            386 non-null object\n",
      "Disaster type              386 non-null object\n",
      "Disaster subtype           386 non-null object\n",
      "Associated disaster        386 non-null object\n",
      "Associated disaster2       386 non-null object\n",
      "Total deaths               386 non-null float64\n",
      "Total affected             386 non-null float64\n",
      "Total damage ('000 US$)    386 non-null float64\n",
      "insured_losses             386 non-null float64\n",
      "Disaster name              107 non-null object\n",
      "Disaster No.               386 non-null object\n",
      "dtypes: float64(7), object(12)\n",
      "memory usage: 57.7+ KB\n"
     ]
    }
   ],
   "source": [
    "df.info()"
   ]
  },
  {
   "cell_type": "code",
   "execution_count": 4,
   "metadata": {},
   "outputs": [
    {
     "name": "stdout",
     "output_type": "stream",
     "text": [
      "['Start date', 'End date', 'Country', 'ISO', 'Location', 'Latitude', 'Longitude', 'Magnitude value', 'Magnitude scale', 'Disaster type', 'Disaster subtype', 'Associated disaster', 'Associated disaster2', 'Total deaths', 'Total affected', \"Total damage ('000 US$)\", 'insured_losses', 'Disaster name', 'Disaster No.']\n"
     ]
    }
   ],
   "source": [
    "print(df.columns.tolist())"
   ]
  },
  {
   "cell_type": "code",
   "execution_count": 5,
   "metadata": {},
   "outputs": [],
   "source": [
    "vnDf = df[df['Country'] == 'Viet Nam']"
   ]
  },
  {
   "cell_type": "code",
   "execution_count": 6,
   "metadata": {},
   "outputs": [],
   "source": [
    "droughtVnDf = vnDf[vnDf['Disaster type'].str.lower() == 'drought']"
   ]
  },
  {
   "cell_type": "code",
   "execution_count": 7,
   "metadata": {},
   "outputs": [],
   "source": [
    "droughtDf = df[df['Disaster type'].str.lower() == 'drought']"
   ]
  },
  {
   "cell_type": "code",
   "execution_count": 8,
   "metadata": {},
   "outputs": [
    {
     "name": "stdout",
     "output_type": "stream",
     "text": [
      "(28, 19)\n"
     ]
    }
   ],
   "source": [
    "print(droughtDf.shape)"
   ]
  },
  {
   "cell_type": "code",
   "execution_count": 9,
   "metadata": {},
   "outputs": [
    {
     "name": "stdout",
     "output_type": "stream",
     "text": [
      "(6, 19)\n"
     ]
    }
   ],
   "source": [
    "print(droughtVnDf.shape)"
   ]
  },
  {
   "cell_type": "code",
   "execution_count": 10,
   "metadata": {},
   "outputs": [],
   "source": [
    "vnDf = vnDf[['Start date', 'End date', 'Country', 'Location', 'Disaster type']]"
   ]
  },
  {
   "cell_type": "code",
   "execution_count": 11,
   "metadata": {},
   "outputs": [],
   "source": [
    "floodVnDf = vnDf[vnDf['Disaster type'] == 'Flood']"
   ]
  },
  {
   "cell_type": "code",
   "execution_count": 12,
   "metadata": {},
   "outputs": [],
   "source": [
    "def str2Date(str, start = True):\n",
    "    if start:\n",
    "        day = 1\n",
    "        month = 1\n",
    "    else:\n",
    "        day = 31\n",
    "        month = 12\n",
    "    strParser = str.split('/')\n",
    "    if (strParser[0] != ''):\n",
    "        day = int(strParser[0])\n",
    "    if (strParser[1] != ''):\n",
    "        month = int(strParser[1])\n",
    "    year = int(strParser[2])\n",
    "    \n",
    "    if start == False and day == 31:\n",
    "        if month == 2:\n",
    "            day = 28\n",
    "        elif month in [4, 6, 9, 11]:\n",
    "            day = 30\n",
    "    return {'day': day, 'month': month, 'year': year}"
   ]
  },
  {
   "cell_type": "markdown",
   "metadata": {},
   "source": [
    "### Calculate duration of a disaster by day"
   ]
  },
  {
   "cell_type": "code",
   "execution_count": 13,
   "metadata": {},
   "outputs": [],
   "source": [
    "def calDurationOfDisaster(transaction):\n",
    "    t1 = str2Date(transaction['Start date'], True)\n",
    "    t2 = str2Date(transaction['End date'], False)\n",
    "    d1 = date(t1['year'], t1['month'], t1['day'])\n",
    "    d2 = date(t2['year'], t2['month'], t2['day'])\n",
    "    delta = d2 - d1\n",
    "    return delta.days"
   ]
  },
  {
   "cell_type": "code",
   "execution_count": 14,
   "metadata": {},
   "outputs": [
    {
     "name": "stdout",
     "output_type": "stream",
     "text": [
      "[30, 0, 0, 30, 29, 30, 0, 0, 18, 30, 3, 6, 4, 3, 10, 105, 28, 43, 5, 7]\n"
     ]
    }
   ],
   "source": [
    "print([calDurationOfDisaster(floodVnDf.iloc[i]) for i in range(20)])"
   ]
  },
  {
   "cell_type": "code",
   "execution_count": 15,
   "metadata": {},
   "outputs": [
    {
     "name": "stdout",
     "output_type": "stream",
     "text": [
      "[364, 211, 364, 244, 244, 455]\n"
     ]
    }
   ],
   "source": [
    "print([calDurationOfDisaster(droughtVnDf.iloc[i]) for i in range(6)])"
   ]
  },
  {
   "cell_type": "code",
   "execution_count": 16,
   "metadata": {},
   "outputs": [],
   "source": [
    "def getMonthOfDisaster(transaction):\n",
    "    t1 = str2Date(transaction['Start date'], True)\n",
    "    t2 = str2Date(transaction['End date'], False)\n",
    "    return {'startMonth': t1['month'], 'endMonth': t2['month'], 'inYear': t1['year'] == t2['year']}"
   ]
  },
  {
   "cell_type": "code",
   "execution_count": 17,
   "metadata": {},
   "outputs": [
    {
     "data": {
      "text/plain": [
       "{'endMonth': 12, 'inYear': True, 'startMonth': 12}"
      ]
     },
     "execution_count": 17,
     "metadata": {},
     "output_type": "execute_result"
    }
   ],
   "source": [
    "getMonthOfDisaster(floodVnDf.iloc[0])"
   ]
  },
  {
   "cell_type": "markdown",
   "metadata": {},
   "source": [
    "### Statistic disaster by month"
   ]
  },
  {
   "cell_type": "code",
   "execution_count": 18,
   "metadata": {},
   "outputs": [],
   "source": [
    "def statByMonth(data):\n",
    "    statByMonth = np.zeros(12)\n",
    "    for i in range(data.shape[0]):\n",
    "        transaction = data.iloc[i]\n",
    "        monthOfDisaster = getMonthOfDisaster(transaction)\n",
    "        startMonth = monthOfDisaster['startMonth']\n",
    "        endMonth = monthOfDisaster['endMonth']\n",
    "        inYear = monthOfDisaster['inYear']\n",
    "        if inYear == True:\n",
    "            for i in range(startMonth, endMonth + 1):\n",
    "                statByMonth[i-1] += 1\n",
    "        else:\n",
    "            for i in range(startMonth, 13):\n",
    "                statByMonth[i-1] += 1\n",
    "            for i in range(1, endMonth + 1):\n",
    "                statByMonth[i-1] += 1\n",
    "    np.delete(statByMonth, 0)\n",
    "    return statByMonth"
   ]
  },
  {
   "cell_type": "code",
   "execution_count": 19,
   "metadata": {},
   "outputs": [
    {
     "name": "stdout",
     "output_type": "stream",
     "text": [
      "[4. 4. 3. 3. 5. 5. 4. 4. 4. 4. 4. 6.]\n"
     ]
    }
   ],
   "source": [
    "statDrought = statByMonth(droughtVnDf)\n",
    "print(statDrought)"
   ]
  },
  {
   "cell_type": "code",
   "execution_count": 20,
   "metadata": {},
   "outputs": [
    {
     "name": "stdout",
     "output_type": "stream",
     "text": [
      "[ 1.  0.  0.  1.  2.  3. 13. 14. 23. 32. 20.  8.]\n"
     ]
    }
   ],
   "source": [
    "statFlood = statByMonth(floodVnDf)\n",
    "print(statFlood)"
   ]
  },
  {
   "cell_type": "code",
   "execution_count": 26,
   "metadata": {},
   "outputs": [],
   "source": [
    "import sklearn\n",
    "import seaborn as sns\n",
    "import matplotlib.pyplot as plt"
   ]
  },
  {
   "cell_type": "code",
   "execution_count": 29,
   "metadata": {},
   "outputs": [
    {
     "data": {
      "text/plain": [
       "([<matplotlib.axis.XTick at 0x7fab9923b438>,\n",
       "  <matplotlib.axis.XTick at 0x7fab992b9048>,\n",
       "  <matplotlib.axis.XTick at 0x7fab9922dfd0>,\n",
       "  <matplotlib.axis.XTick at 0x7fab991d1f60>,\n",
       "  <matplotlib.axis.XTick at 0x7fab991d85f8>,\n",
       "  <matplotlib.axis.XTick at 0x7fab991d8c50>,\n",
       "  <matplotlib.axis.XTick at 0x7fab991de2e8>,\n",
       "  <matplotlib.axis.XTick at 0x7fab991de940>,\n",
       "  <matplotlib.axis.XTick at 0x7fab991def98>,\n",
       "  <matplotlib.axis.XTick at 0x7fab991e3668>,\n",
       "  <matplotlib.axis.XTick at 0x7fab991e3cf8>,\n",
       "  <matplotlib.axis.XTick at 0x7fab991ea3c8>],\n",
       " <a list of 12 Text xticklabel objects>)"
      ]
     },
     "execution_count": 29,
     "metadata": {},
     "output_type": "execute_result"
    },
    {
     "data": {
      "image/png": "[encoded data removed]",
      "text/plain": [
       "<matplotlib.figure.Figure at 0x7fab9923fac8>"
      ]
     },
     "metadata": {},
     "output_type": "display_data"
    }
   ],
   "source": [
    "plt.figure(figsize=(10,5))\n",
    "plt.plot(statFlood, marker='.')\n",
    "plt.xticks(np.arange(1,13))"
   ]
  },
  {
   "cell_type": "code",
   "execution_count": 39,
   "metadata": {},
   "outputs": [],
   "source": [
    "def statByMonthAndYear(data, yearStart, yearEnd):\n",
    "    dataStat = data.copy()\n",
    "    cnt = 0\n",
    "    for i in range(data.shape[0]):\n",
    "        line = data.iloc[i]\n",
    "        startDate = str2Date(line['Start date'])\n",
    "        endDate = str2Date(line['End date'])\n",
    "        _yearStart = startDate['year']\n",
    "        _yearEnd = endDate['year']\n",
    "        if (_yearStart >= yearStart and _yearEnd <= yearEnd):\n",
    "            dataStat.iloc[cnt] = line\n",
    "            cnt+=1\n",
    "    dataStat = dataStat.iloc[:cnt]\n",
    "    return statByMonth(dataStat)"
   ]
  },
  {
   "cell_type": "code",
   "execution_count": 40,
   "metadata": {},
   "outputs": [],
   "source": [
    "stat1 = statByMonthAndYear(floodVnDf, 2010, 2017)"
   ]
  },
  {
   "cell_type": "code",
   "execution_count": 41,
   "metadata": {},
   "outputs": [
    {
     "data": {
      "text/plain": [
       "([<matplotlib.axis.XTick at 0x7fab9908d470>,\n",
       "  <matplotlib.axis.XTick at 0x7fab98ff78d0>,\n",
       "  <matplotlib.axis.XTick at 0x7fab99018be0>,\n",
       "  <matplotlib.axis.XTick at 0x7fab98f9ab38>,\n",
       "  <matplotlib.axis.XTick at 0x7fab98fa01d0>,\n",
       "  <matplotlib.axis.XTick at 0x7fab98fa0828>,\n",
       "  <matplotlib.axis.XTick at 0x7fab98fa0e80>,\n",
       "  <matplotlib.axis.XTick at 0x7fab98fa6518>,\n",
       "  <matplotlib.axis.XTick at 0x7fab98fa6b70>,\n",
       "  <matplotlib.axis.XTick at 0x7fab98fab240>,\n",
       "  <matplotlib.axis.XTick at 0x7fab98fab8d0>,\n",
       "  <matplotlib.axis.XTick at 0x7fab98fabf60>],\n",
       " <a list of 12 Text xticklabel objects>)"
      ]
     },
     "execution_count": 41,
     "metadata": {},
     "output_type": "execute_result"
    },
    {
     "data": {
      "image/png": "[encoded data removed]",
      "text/plain": [
       "<matplotlib.figure.Figure at 0x7fab99018860>"
      ]
     },
     "metadata": {},
     "output_type": "display_data"
    }
   ],
   "source": [
    "plt.figure(figsize = (10,5))\n",
    "plt.plot(stat1, marker='.')\n",
    "plt.xticks(np.arange(1,13))"
   ]
  },
  {
   "cell_type": "code",
   "execution_count": 38,
   "metadata": {},
   "outputs": [
    {
     "name": "stdout",
     "output_type": "stream",
     "text": [
      "/12/1964\n"
     ]
    }
   ],
   "source": [
    "print(floodVnDf.iloc[0]['Start date'])"
   ]
  },
  {
   "cell_type": "code",
   "execution_count": 57,
   "metadata": {},
   "outputs": [
    {
     "data": {
      "text/plain": [
       "([<matplotlib.axis.XTick at 0x7fab92f14b38>,\n",
       "  <matplotlib.axis.XTick at 0x7fab9891c898>,\n",
       "  <matplotlib.axis.XTick at 0x7fab92f01470>,\n",
       "  <matplotlib.axis.XTick at 0x7fab92ed25f8>,\n",
       "  <matplotlib.axis.XTick at 0x7fab92ed2c50>,\n",
       "  <matplotlib.axis.XTick at 0x7fab92ed2f28>,\n",
       "  <matplotlib.axis.XTick at 0x7fab92ed75c0>,\n",
       "  <matplotlib.axis.XTick at 0x7fab92ed7c50>,\n",
       "  <matplotlib.axis.XTick at 0x7fab92ede320>,\n",
       "  <matplotlib.axis.XTick at 0x7fab92ede9b0>,\n",
       "  <matplotlib.axis.XTick at 0x7fab92ee4080>,\n",
       "  <matplotlib.axis.XTick at 0x7fab92ee4710>],\n",
       " <a list of 12 Text xticklabel objects>)"
      ]
     },
     "execution_count": 57,
     "metadata": {},
     "output_type": "execute_result"
    },
    {
     "data": {
      "image/png": "[encoded data removed]",
      "text/plain": [
       "<matplotlib.figure.Figure at 0x7fab92f630b8>"
      ]
     },
     "metadata": {},
     "output_type": "display_data"
    }
   ],
   "source": [
    "step = 10\n",
    "yearEnd = np.arange(1967 + step, 2018, step=step)\n",
    "yearStart = yearEnd - (step - 1)\n",
    "stat = []\n",
    "Color = ['r', 'g', 'b', 'c', 'y']\n",
    "for i in range(yearStart.shape[0]):\n",
    "    stat.append(statByMonthAndYear(floodVnDf, yearStart[i], yearEnd[i]))\n",
    "\n",
    "plt.figure(figsize=(12,8))\n",
    "for i, s in enumerate(stat):\n",
    "    plt.plot(s, color = Color[i], label = str(yearStart[i]) + '-' + str(yearEnd[i]), marker='.')\n",
    "\n",
    "plt.title('Statistic number of floods in Vietnam by month')\n",
    "plt.legend()\n",
    "plt.xticks(np.arange(1,13))"
   ]
  },
  {
   "cell_type": "code",
   "execution_count": 61,
   "metadata": {},
   "outputs": [],
   "source": [
    "floodDuration = [calDurationOfDisaster(floodVnDf.iloc[i]) for i in range(floodVnDf.shape[0])]"
   ]
  },
  {
   "cell_type": "code",
   "execution_count": 63,
   "metadata": {},
   "outputs": [
    {
     "data": {
      "text/plain": [
       "(array([66., 12.,  1.,  1.,  0.,  1.,  2.,  1.,  0.,  1.]),\n",
       " array([  0. ,  15.2,  30.4,  45.6,  60.8,  76. ,  91.2, 106.4, 121.6,\n",
       "        136.8, 152. ]),\n",
       " <a list of 10 Patch objects>)"
      ]
     },
     "execution_count": 63,
     "metadata": {},
     "output_type": "execute_result"
    },
    {
     "data": {
      "image/png": "[encoded data removed]",
      "text/plain": [
       "<matplotlib.figure.Figure at 0x7fab988adc18>"
      ]
     },
     "metadata": {},
     "output_type": "display_data"
    }
   ],
   "source": [
    "plt.hist(floodDuration)"
   ]
  },
  {
   "cell_type": "code",
   "execution_count": 100,
   "metadata": {},
   "outputs": [],
   "source": [
    "def histogram(data, bins = 10):\n",
    "    max = data[0]\n",
    "    for d in data:\n",
    "        if d > max:\n",
    "            max = d\n",
    "    binSize = max/bins\n",
    "    a = np.arange(1, max + 2, step = int(binSize))\n",
    "    a[-1] = max+1\n",
    "    a[0] = 0\n",
    "    cnt = np.zeros(a.shape[0] - 1)\n",
    "    for d in data:\n",
    "        for i in range(a.shape[0] - 1):\n",
    "            if d >= a[i] and d < a[i+1]:\n",
    "                cnt[i] += 1\n",
    "                break\n",
    "    return cnt"
   ]
  },
  {
   "cell_type": "code",
   "execution_count": 106,
   "metadata": {},
   "outputs": [],
   "source": [
    "floodHist = histogram(floodDuration, 10)"
   ]
  },
  {
   "cell_type": "code",
   "execution_count": 107,
   "metadata": {},
   "outputs": [
    {
     "name": "stdout",
     "output_type": "stream",
     "text": [
      "[66. 12.  1.  1.  0.  1.  2.  0.  1.  1.]\n"
     ]
    }
   ],
   "source": [
    "print(floodHist)"
   ]
  },
  {
   "cell_type": "code",
   "execution_count": 114,
   "metadata": {},
   "outputs": [
    {
     "data": {
      "text/plain": [
       "([<matplotlib.axis.XTick at 0x7fab92902eb8>,\n",
       "  <matplotlib.axis.XTick at 0x7fab928e8fd0>,\n",
       "  <matplotlib.axis.XTick at 0x7fab928ef898>,\n",
       "  <matplotlib.axis.XTick at 0x7fab92883f60>,\n",
       "  <matplotlib.axis.XTick at 0x7fab9288a5f8>,\n",
       "  <matplotlib.axis.XTick at 0x7fab9288ac50>,\n",
       "  <matplotlib.axis.XTick at 0x7fab928912e8>,\n",
       "  <matplotlib.axis.XTick at 0x7fab92891940>,\n",
       "  <matplotlib.axis.XTick at 0x7fab92891fd0>,\n",
       "  <matplotlib.axis.XTick at 0x7fab928976a0>],\n",
       " <a list of 10 Text xticklabel objects>)"
      ]
     },
     "execution_count": 114,
     "metadata": {},
     "output_type": "execute_result"
    },
    {
     "data": {
      "image/png": "[encoded data removed]",
      "text/plain": [
       "<matplotlib.figure.Figure at 0x7fab929246d8>"
      ]
     },
     "metadata": {},
     "output_type": "display_data"
    }
   ],
   "source": [
    "plt.plot(floodHist)\n",
    "plt.xticks(np.arange(0,10,step=1))"
   ]
  },
  {
   "cell_type": "code",
   "execution_count": null,
   "metadata": {},
   "outputs": [],
   "source": []
  }
 ],
 "metadata": {
  "celltoolbar": "Raw Cell Format",
  "kernelspec": {
   "display_name": "Python 3",
   "language": "python",
   "name": "python3"
  },
  "language_info": {
   "codemirror_mode": {
    "name": "ipython",
    "version": 3
   },
   "file_extension": ".py",
   "mimetype": "text/x-python",
   "name": "python",
   "nbconvert_exporter": "python",
   "pygments_lexer": "ipython3",
   "version": "3.6.4"
  }
 },
 "nbformat": 4,
 "nbformat_minor": 2
}
