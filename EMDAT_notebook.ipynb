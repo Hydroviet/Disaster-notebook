{
 "cells": [
  {
   "cell_type": "code",
   "execution_count": 118,
   "metadata": {},
   "outputs": [],
   "source": [
    "import pandas as pd\n",
    "import numpy as np\n",
    "from datetime import date"
   ]
  },
  {
   "cell_type": "code",
   "execution_count": 57,
   "metadata": {},
   "outputs": [],
   "source": [
    "df = pd.read_csv('EMDAT_Indochina.csv', sep=',', encoding='ISO-8859-1',header=1)"
   ]
  },
  {
   "cell_type": "code",
   "execution_count": 58,
   "metadata": {},
   "outputs": [
    {
     "name": "stdout",
     "output_type": "stream",
     "text": [
      "<class 'pandas.core.frame.DataFrame'>\n",
      "RangeIndex: 388 entries, 0 to 387\n",
      "Data columns (total 19 columns):\n",
      "Start date                 388 non-null object\n",
      "End date                   386 non-null object\n",
      "Country                    386 non-null object\n",
      "ISO                        386 non-null object\n",
      "Location                   363 non-null object\n",
      "Latitude                   55 non-null float64\n",
      "Longitude                  57 non-null float64\n",
      "Magnitude value            147 non-null float64\n",
      "Magnitude scale            386 non-null object\n",
      "Disaster type              386 non-null object\n",
      "Disaster subtype           386 non-null object\n",
      "Associated disaster        386 non-null object\n",
      "Associated disaster2       386 non-null object\n",
      "Total deaths               386 non-null float64\n",
      "Total affected             386 non-null float64\n",
      "Total damage ('000 US$)    386 non-null float64\n",
      "insured_losses             386 non-null float64\n",
      "Disaster name              107 non-null object\n",
      "Disaster No.               386 non-null object\n",
      "dtypes: float64(7), object(12)\n",
      "memory usage: 57.7+ KB\n"
     ]
    }
   ],
   "source": [
    "df.info()"
   ]
  },
  {
   "cell_type": "code",
   "execution_count": 59,
   "metadata": {},
   "outputs": [
    {
     "name": "stdout",
     "output_type": "stream",
     "text": [
      "['Start date', 'End date', 'Country', 'ISO', 'Location', 'Latitude', 'Longitude', 'Magnitude value', 'Magnitude scale', 'Disaster type', 'Disaster subtype', 'Associated disaster', 'Associated disaster2', 'Total deaths', 'Total affected', \"Total damage ('000 US$)\", 'insured_losses', 'Disaster name', 'Disaster No.']\n"
     ]
    }
   ],
   "source": [
    "print(df.columns.tolist())"
   ]
  },
  {
   "cell_type": "code",
   "execution_count": 60,
   "metadata": {},
   "outputs": [],
   "source": [
    "vnDf = df[df['Country'] == 'Viet Nam']"
   ]
  },
  {
   "cell_type": "code",
   "execution_count": 70,
   "metadata": {},
   "outputs": [],
   "source": [
    "droughtVnDf = vnDf[vnDf['Disaster type'].str.lower() == 'drought']"
   ]
  },
  {
   "cell_type": "code",
   "execution_count": 72,
   "metadata": {},
   "outputs": [],
   "source": [
    "droughtDf = df[df['Disaster type'].str.lower() == 'drought']"
   ]
  },
  {
   "cell_type": "code",
   "execution_count": 74,
   "metadata": {},
   "outputs": [
    {
     "name": "stdout",
     "output_type": "stream",
     "text": [
      "(28, 19)\n"
     ]
    }
   ],
   "source": [
    "print(droughtDf.shape)"
   ]
  },
  {
   "cell_type": "code",
   "execution_count": 75,
   "metadata": {},
   "outputs": [
    {
     "name": "stdout",
     "output_type": "stream",
     "text": [
      "(6, 19)\n"
     ]
    }
   ],
   "source": [
    "print(droughtVnDf.shape)"
   ]
  },
  {
   "cell_type": "code",
   "execution_count": 77,
   "metadata": {},
   "outputs": [],
   "source": [
    "vnDf = vnDf[['Start date', 'End date', 'Country', 'Location', 'Disaster type']]"
   ]
  },
  {
   "cell_type": "code",
   "execution_count": 79,
   "metadata": {},
   "outputs": [],
   "source": [
    "floodVnDf = vnDf[vnDf['Disaster type'] == 'Flood']"
   ]
  },
  {
   "cell_type": "code",
   "execution_count": 104,
   "metadata": {},
   "outputs": [],
   "source": [
    "def str2Date(str, start = True):\n",
    "    if start:\n",
    "        day = 1\n",
    "        month = 1\n",
    "    else:\n",
    "        day = 31\n",
    "        month = 12\n",
    "    strParser = str.split('/')\n",
    "    if (strParser[0] != ''):\n",
    "        day = int(strParser[0])\n",
    "    if (strParser[1] != ''):\n",
    "        month = int(strParser[1])\n",
    "    year = int(strParser[2])\n",
    "    \n",
    "    if start == False and day == 31:\n",
    "        if month == 2:\n",
    "            day = 28\n",
    "        elif month in [4, 6, 9, 11]:\n",
    "            day = 30\n",
    "    return {'day': day, 'month': month, 'year': year}"
   ]
  },
  {
   "cell_type": "markdown",
   "metadata": {},
   "source": [
    "### Calculate duration of a disaster by day"
   ]
  },
  {
   "cell_type": "code",
   "execution_count": 119,
   "metadata": {},
   "outputs": [],
   "source": [
    "def calDurationOfDisaster(transaction):\n",
    "    t1 = str2Date(transaction['Start date'], True)\n",
    "    t2 = str2Date(transaction['End date'], False)\n",
    "    d1 = date(t1['year'], t1['month'], t1['day'])\n",
    "    d2 = date(t2['year'], t2['month'], t2['day'])\n",
    "    delta = d2 - d1\n",
    "    return delta.days"
   ]
  },
  {
   "cell_type": "code",
   "execution_count": 124,
   "metadata": {},
   "outputs": [
    {
     "name": "stdout",
     "output_type": "stream",
     "text": [
      "[30, 0, 0, 30, 29, 30, 0, 0, 18, 30, 3, 6, 4, 3, 10, 105, 28, 43, 5, 7]\n"
     ]
    }
   ],
   "source": [
    "print([calDurationOfDisaster(floodVnDf.iloc[i]) for i in range(20)])"
   ]
  },
  {
   "cell_type": "code",
   "execution_count": 112,
   "metadata": {},
   "outputs": [
    {
     "name": "stdout",
     "output_type": "stream",
     "text": [
      "[364, 211, 364, 244, 244, 455]\n"
     ]
    }
   ],
   "source": [
    "print([calDurationOfDisaster(droughtVnDf.iloc[i]) for i in range(6)])"
   ]
  },
  {
   "cell_type": "code",
   "execution_count": 125,
   "metadata": {},
   "outputs": [],
   "source": [
    "def getMonthOfDisaster(transaction):\n",
    "    t1 = str2Date(transaction['Start date'], True)\n",
    "    t2 = str2Date(transaction['End date'], False)\n",
    "    return {'startMonth': t1['month'], 'endMonth': t2['month'], 'inYear': t1['year'] == t2['year']}"
   ]
  },
  {
   "cell_type": "code",
   "execution_count": 116,
   "metadata": {},
   "outputs": [
    {
     "data": {
      "text/plain": [
       "{'endMonth': 12, 'inYear': True, 'startMonth': 12}"
      ]
     },
     "execution_count": 116,
     "metadata": {},
     "output_type": "execute_result"
    }
   ],
   "source": [
    "getMonthOfDisaster(floodVnDf.iloc[0])"
   ]
  },
  {
   "cell_type": "markdown",
   "metadata": {},
   "source": [
    "### Statistic disaster by month"
   ]
  },
  {
   "cell_type": "code",
   "execution_count": 149,
   "metadata": {},
   "outputs": [],
   "source": [
    "def statisticByMonth(data):\n",
    "    statByMonth = np.zeros(12)\n",
    "    for i in range(data.shape[0]):\n",
    "        transaction = data.iloc[i]\n",
    "        monthOfDisaster = getMonthOfDisaster(transaction)\n",
    "        startMonth = monthOfDisaster['startMonth']\n",
    "        endMonth = monthOfDisaster['endMonth']\n",
    "        inYear = monthOfDisaster['inYear']\n",
    "        if inYear == True:\n",
    "            for i in range(startMonth, endMonth + 1):\n",
    "                statByMonth[i-1] += 1\n",
    "        else:\n",
    "            for i in range(startMonth, 13):\n",
    "                statByMonth[i-1] += 1\n",
    "            for i in range(1, endMonth + 1):\n",
    "                statByMonth[i-1] += 1\n",
    "    np.delete(statByMonth, 0)\n",
    "    return statByMonth"
   ]
  },
  {
   "cell_type": "code",
   "execution_count": 151,
   "metadata": {},
   "outputs": [
    {
     "name": "stdout",
     "output_type": "stream",
     "text": [
      "[4. 4. 3. 3. 5. 5. 4. 4. 4. 4. 4. 6.]\n"
     ]
    }
   ],
   "source": [
    "statDrought = statisticByMonth(droughtVnDf)\n",
    "print(statDrought)"
   ]
  },
  {
   "cell_type": "code",
   "execution_count": 152,
   "metadata": {},
   "outputs": [
    {
     "name": "stdout",
     "output_type": "stream",
     "text": [
      "[ 1.  0.  0.  1.  2.  3. 13. 14. 23. 32. 20.  8.]\n"
     ]
    }
   ],
   "source": [
    "statFlood = statisticByMonth(floodVnDf)\n",
    "print(statFlood)"
   ]
  },
  {
   "cell_type": "code",
   "execution_count": null,
   "metadata": {},
   "outputs": [],
   "source": []
  }
 ],
 "metadata": {
  "celltoolbar": "Raw Cell Format",
  "kernelspec": {
   "display_name": "Python 3",
   "language": "python",
   "name": "python3"
  },
  "language_info": {
   "codemirror_mode": {
    "name": "ipython",
    "version": 3
   },
   "file_extension": ".py",
   "mimetype": "text/x-python",
   "name": "python",
   "nbconvert_exporter": "python",
   "pygments_lexer": "ipython3",
   "version": "3.6.4"
  }
 },
 "nbformat": 4,
 "nbformat_minor": 2
}
